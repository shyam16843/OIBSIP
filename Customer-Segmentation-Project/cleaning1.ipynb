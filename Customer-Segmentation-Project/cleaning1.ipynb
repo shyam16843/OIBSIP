{
 "cells": [
  {
   "cell_type": "code",
   "execution_count": 23,
   "id": "9e554758",
   "metadata": {},
   "outputs": [
    {
     "name": "stdout",
     "output_type": "stream",
     "text": [
      "    Income  Kidhome  Teenhome  Recency  MntWines  MntFruits  MntMeatProducts  \\\n",
      "0  58138.0        0         0       58       635         88              546   \n",
      "1  46344.0        1         1       38        11          1                6   \n",
      "2  71613.0        0         0       26       426         49              127   \n",
      "3  26646.0        1         0       26        11          4               20   \n",
      "4  58293.0        1         0       94       173         43              118   \n",
      "\n",
      "   MntFishProducts  MntSweetProducts  MntGoldProds  ...  marital_Together  \\\n",
      "0              172                88            88  ...                 0   \n",
      "1                2                 1             6  ...                 0   \n",
      "2              111                21            42  ...                 1   \n",
      "3               10                 3             5  ...                 1   \n",
      "4               46                27            15  ...                 0   \n",
      "\n",
      "   marital_Widow  education_2n Cycle  education_Basic  education_Graduation  \\\n",
      "0              0                   0                0                     1   \n",
      "1              0                   0                0                     1   \n",
      "2              0                   0                0                     1   \n",
      "3              0                   0                0                     1   \n",
      "4              0                   0                0                     0   \n",
      "\n",
      "   education_Master  education_PhD  MntTotal  MntRegularProds  \\\n",
      "0                 0              0      1529             1441   \n",
      "1                 0              0        21               15   \n",
      "2                 0              0       734              692   \n",
      "3                 0              0        48               43   \n",
      "4                 0              1       407              392   \n",
      "\n",
      "   AcceptedCmpOverall  \n",
      "0                   0  \n",
      "1                   0  \n",
      "2                   0  \n",
      "3                   0  \n",
      "4                   0  \n",
      "\n",
      "[5 rows x 39 columns]\n"
     ]
    }
   ],
   "source": [
    "import pandas as pd\n",
    "\n",
    "# Replace 'your_dataset.csv' with the actual filename\n",
    "data = pd.read_csv('ifood_df.csv')\n",
    "\n",
    "# Display first few rows to check data\n",
    "print(data.head())"
   ]
  },
  {
   "cell_type": "code",
   "execution_count": 26,
   "id": "c61b89c9",
   "metadata": {},
   "outputs": [
    {
     "name": "stdout",
     "output_type": "stream",
     "text": [
      "<class 'pandas.core.frame.DataFrame'>\n",
      "RangeIndex: 2205 entries, 0 to 2204\n",
      "Data columns (total 39 columns):\n",
      " #   Column                Non-Null Count  Dtype  \n",
      "---  ------                --------------  -----  \n",
      " 0   Income                2205 non-null   float64\n",
      " 1   Kidhome               2205 non-null   int64  \n",
      " 2   Teenhome              2205 non-null   int64  \n",
      " 3   Recency               2205 non-null   int64  \n",
      " 4   MntWines              2205 non-null   int64  \n",
      " 5   MntFruits             2205 non-null   int64  \n",
      " 6   MntMeatProducts       2205 non-null   int64  \n",
      " 7   MntFishProducts       2205 non-null   int64  \n",
      " 8   MntSweetProducts      2205 non-null   int64  \n",
      " 9   MntGoldProds          2205 non-null   int64  \n",
      " 10  NumDealsPurchases     2205 non-null   int64  \n",
      " 11  NumWebPurchases       2205 non-null   int64  \n",
      " 12  NumCatalogPurchases   2205 non-null   int64  \n",
      " 13  NumStorePurchases     2205 non-null   int64  \n",
      " 14  NumWebVisitsMonth     2205 non-null   int64  \n",
      " 15  AcceptedCmp3          2205 non-null   int64  \n",
      " 16  AcceptedCmp4          2205 non-null   int64  \n",
      " 17  AcceptedCmp5          2205 non-null   int64  \n",
      " 18  AcceptedCmp1          2205 non-null   int64  \n",
      " 19  AcceptedCmp2          2205 non-null   int64  \n",
      " 20  Complain              2205 non-null   int64  \n",
      " 21  Z_CostContact         2205 non-null   int64  \n",
      " 22  Z_Revenue             2205 non-null   int64  \n",
      " 23  Response              2205 non-null   int64  \n",
      " 24  Age                   2205 non-null   int64  \n",
      " 25  Customer_Days         2205 non-null   int64  \n",
      " 26  marital_Divorced      2205 non-null   int64  \n",
      " 27  marital_Married       2205 non-null   int64  \n",
      " 28  marital_Single        2205 non-null   int64  \n",
      " 29  marital_Together      2205 non-null   int64  \n",
      " 30  marital_Widow         2205 non-null   int64  \n",
      " 31  education_2n Cycle    2205 non-null   int64  \n",
      " 32  education_Basic       2205 non-null   int64  \n",
      " 33  education_Graduation  2205 non-null   int64  \n",
      " 34  education_Master      2205 non-null   int64  \n",
      " 35  education_PhD         2205 non-null   int64  \n",
      " 36  MntTotal              2205 non-null   int64  \n",
      " 37  MntRegularProds       2205 non-null   int64  \n",
      " 38  AcceptedCmpOverall    2205 non-null   int64  \n",
      "dtypes: float64(1), int64(38)\n",
      "memory usage: 672.0 KB\n",
      "None\n"
     ]
    }
   ],
   "source": [
    "# View column names and data types\n",
    "print(data.info())"
   ]
  },
  {
   "cell_type": "code",
   "execution_count": 25,
   "id": "d4b4fd0e",
   "metadata": {},
   "outputs": [
    {
     "name": "stdout",
     "output_type": "stream",
     "text": [
      "              Income      Kidhome     Teenhome      Recency     MntWines  \\\n",
      "count    2205.000000  2205.000000  2205.000000  2205.000000  2205.000000   \n",
      "mean    51622.094785     0.442177     0.506576    49.009070   306.164626   \n",
      "std     20713.063826     0.537132     0.544380    28.932111   337.493839   \n",
      "min      1730.000000     0.000000     0.000000     0.000000     0.000000   \n",
      "25%     35196.000000     0.000000     0.000000    24.000000    24.000000   \n",
      "50%     51287.000000     0.000000     0.000000    49.000000   178.000000   \n",
      "75%     68281.000000     1.000000     1.000000    74.000000   507.000000   \n",
      "max    113734.000000     2.000000     2.000000    99.000000  1493.000000   \n",
      "\n",
      "         MntFruits  MntMeatProducts  MntFishProducts  MntSweetProducts  \\\n",
      "count  2205.000000      2205.000000      2205.000000       2205.000000   \n",
      "mean     26.403175       165.312018        37.756463         27.128345   \n",
      "std      39.784484       217.784507        54.824635         41.130468   \n",
      "min       0.000000         0.000000         0.000000          0.000000   \n",
      "25%       2.000000        16.000000         3.000000          1.000000   \n",
      "50%       8.000000        68.000000        12.000000          8.000000   \n",
      "75%      33.000000       232.000000        50.000000         34.000000   \n",
      "max     199.000000      1725.000000       259.000000        262.000000   \n",
      "\n",
      "       MntGoldProds  ...  marital_Together  marital_Widow  education_2n Cycle  \\\n",
      "count   2205.000000  ...       2205.000000    2205.000000         2205.000000   \n",
      "mean      44.057143  ...          0.257596       0.034467            0.089796   \n",
      "std       51.736211  ...          0.437410       0.182467            0.285954   \n",
      "min        0.000000  ...          0.000000       0.000000            0.000000   \n",
      "25%        9.000000  ...          0.000000       0.000000            0.000000   \n",
      "50%       25.000000  ...          0.000000       0.000000            0.000000   \n",
      "75%       56.000000  ...          1.000000       0.000000            0.000000   \n",
      "max      321.000000  ...          1.000000       1.000000            1.000000   \n",
      "\n",
      "       education_Basic  education_Graduation  education_Master  education_PhD  \\\n",
      "count      2205.000000           2205.000000       2205.000000    2205.000000   \n",
      "mean          0.024490              0.504762          0.165079       0.215873   \n",
      "std           0.154599              0.500091          0.371336       0.411520   \n",
      "min           0.000000              0.000000          0.000000       0.000000   \n",
      "25%           0.000000              0.000000          0.000000       0.000000   \n",
      "50%           0.000000              1.000000          0.000000       0.000000   \n",
      "75%           0.000000              1.000000          0.000000       0.000000   \n",
      "max           1.000000              1.000000          1.000000       1.000000   \n",
      "\n",
      "          MntTotal  MntRegularProds  AcceptedCmpOverall  \n",
      "count  2205.000000      2205.000000          2205.00000  \n",
      "mean    562.764626       518.707483             0.29932  \n",
      "std     575.936911       553.847248             0.68044  \n",
      "min       4.000000      -283.000000             0.00000  \n",
      "25%      56.000000        42.000000             0.00000  \n",
      "50%     343.000000       288.000000             0.00000  \n",
      "75%     964.000000       884.000000             0.00000  \n",
      "max    2491.000000      2458.000000             4.00000  \n",
      "\n",
      "[8 rows x 39 columns]\n"
     ]
    }
   ],
   "source": [
    "# Summary statistics for numerical columns\n",
    "print(data.describe())\n",
    "\n"
   ]
  },
  {
   "cell_type": "code",
   "execution_count": 27,
   "id": "cc6276a2",
   "metadata": {},
   "outputs": [
    {
     "name": "stdout",
     "output_type": "stream",
     "text": [
      "Income                  0\n",
      "Kidhome                 0\n",
      "Teenhome                0\n",
      "Recency                 0\n",
      "MntWines                0\n",
      "MntFruits               0\n",
      "MntMeatProducts         0\n",
      "MntFishProducts         0\n",
      "MntSweetProducts        0\n",
      "MntGoldProds            0\n",
      "NumDealsPurchases       0\n",
      "NumWebPurchases         0\n",
      "NumCatalogPurchases     0\n",
      "NumStorePurchases       0\n",
      "NumWebVisitsMonth       0\n",
      "AcceptedCmp3            0\n",
      "AcceptedCmp4            0\n",
      "AcceptedCmp5            0\n",
      "AcceptedCmp1            0\n",
      "AcceptedCmp2            0\n",
      "Complain                0\n",
      "Z_CostContact           0\n",
      "Z_Revenue               0\n",
      "Response                0\n",
      "Age                     0\n",
      "Customer_Days           0\n",
      "marital_Divorced        0\n",
      "marital_Married         0\n",
      "marital_Single          0\n",
      "marital_Together        0\n",
      "marital_Widow           0\n",
      "education_2n Cycle      0\n",
      "education_Basic         0\n",
      "education_Graduation    0\n",
      "education_Master        0\n",
      "education_PhD           0\n",
      "MntTotal                0\n",
      "MntRegularProds         0\n",
      "AcceptedCmpOverall      0\n",
      "dtype: int64\n"
     ]
    }
   ],
   "source": [
    "# Check for missing values per column\n",
    "print(data.isnull().sum())"
   ]
  },
  {
   "cell_type": "code",
   "execution_count": 28,
   "id": "5005cb5a",
   "metadata": {},
   "outputs": [
    {
     "name": "stdout",
     "output_type": "stream",
     "text": [
      "False\n"
     ]
    }
   ],
   "source": [
    "print(data.isnull().values.any())\n"
   ]
  },
  {
   "cell_type": "code",
   "execution_count": 16,
   "id": "a9c0b791",
   "metadata": {},
   "outputs": [
    {
     "name": "stdout",
     "output_type": "stream",
     "text": [
      "YEAR                0\n",
      "MONTH               0\n",
      "SUPPLIER            0\n",
      "ITEM CODE           0\n",
      "ITEM DESCRIPTION    0\n",
      "ITEM TYPE           0\n",
      "RETAIL SALES        0\n",
      "RETAIL TRANSFERS    0\n",
      "WAREHOUSE SALES     0\n",
      "dtype: int64\n"
     ]
    }
   ],
   "source": [
    "# Calculate the median value for 'RETAIL SALES' column\n",
    "median_retail_sales = data['RETAIL SALES'].median()\n",
    "\n",
    "# Fill missing values\n",
    "data['SUPPLIER'] = data['SUPPLIER'].fillna('Unknown')\n",
    "data['RETAIL SALES'] = data['RETAIL SALES'].fillna(median_retail_sales)\n",
    "\n",
    "# Check if all missing values are handled\n",
    "print(data.isnull().sum())\n"
   ]
  },
  {
   "cell_type": "code",
   "execution_count": null,
   "id": "1a14d3f5",
   "metadata": {},
   "outputs": [],
   "source": [
    "\n"
   ]
  },
  {
   "cell_type": "code",
   "execution_count": null,
   "id": "d4023952",
   "metadata": {},
   "outputs": [],
   "source": []
  },
  {
   "cell_type": "code",
   "execution_count": null,
   "id": "c43dbac9",
   "metadata": {},
   "outputs": [],
   "source": []
  },
  {
   "cell_type": "code",
   "execution_count": null,
   "id": "f07b750d",
   "metadata": {},
   "outputs": [],
   "source": []
  },
  {
   "cell_type": "code",
   "execution_count": null,
   "id": "640d78d0",
   "metadata": {},
   "outputs": [],
   "source": []
  }
 ],
 "metadata": {
  "kernelspec": {
   "display_name": "Python 3",
   "language": "python",
   "name": "python3"
  },
  "language_info": {
   "codemirror_mode": {
    "name": "ipython",
    "version": 3
   },
   "file_extension": ".py",
   "mimetype": "text/x-python",
   "name": "python",
   "nbconvert_exporter": "python",
   "pygments_lexer": "ipython3",
   "version": "3.13.5"
  }
 },
 "nbformat": 4,
 "nbformat_minor": 5
}
